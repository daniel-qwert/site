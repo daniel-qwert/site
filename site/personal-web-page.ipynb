{
 "cells": [
  {
   "cell_type": "code",
   "execution_count": 6,
   "metadata": {
    "pycharm": {
     "name": "#%%\n"
    }
   },
   "outputs": [
    {
     "data": {
      "text/html": [
       "<div>\n",
       "  <iframe src=\"/app/endpoints/7be3e5f020f74f3ea5b798e889042e2d/\" width=800 height=600 frameborder=\"0\"></iframe>\n",
       "  <hr/><a href=\"/app/endpoints/7be3e5f020f74f3ea5b798e889042e2d/\" target=\"_new\">Open in new window</a> for /app/endpoints/7be3e5f020f74f3ea5b798e889042e2d/\n",
       "</div>"
      ],
      "text/plain": [
       "<jupyter_plotly_dash.dash_wrapper.JupyterDash at 0x19607d5e148>"
      ]
     },
     "execution_count": 6,
     "metadata": {},
     "output_type": "execute_result"
    }
   ],
   "source": [
    "from jupyter_plotly_dash import JupyterDash\n",
    "\n",
    "import dash #установка библиотек\n",
    "import base64\n",
    "import dash_core_components as dcc\n",
    "import dash_html_components as html\n",
    "from dash.dependencies import Input, Output\n",
    "\n",
    "app = JupyterDash('SimpleExample')\n",
    "\n",
    "app.layout = html.Div([\n",
    "    html.Div(id='header-content'),\n",
    "    dcc.Tabs(id='tabs', value='tab-1', children=[\n",
    "        dcc.Tab(label='Main page', value='tab-1'),\n",
    "        dcc.Tab(label='About me', value='tab-2'),\n",
    "        dcc.Tab(label='First semester', value='tab-3'),\n",
    "        dcc.Tab(label='Second semester', value='tab-4'),\n",
    "        dcc.Tab(label='Third semester', value='tab-5'),\n",
    "        dcc.Tab(label='Gallery', value='tab-6'),\n",
    "        dcc.Tab(label='FBB', value='tab-7'),\n",
    "    ]),\n",
    "    html.Div(id='tabs-content')\n",
    "])\n",
    "\n",
    "def generate_thumbnail(image):\n",
    "    encoded_image = base64.b64encode(open(image, 'rb').read()) #чтобы юпитер прочитал картинки\n",
    "    return html.Div([\n",
    "        html.A([\n",
    "            html.Img(\n",
    "                src = 'data:image/jpeg;base64,{}'.format(encoded_image.decode()),\n",
    "                style = {\n",
    "                    'height': '40%',\n",
    "                    'width': '40%',\n",
    "                    'float': 'left',\n",
    "                    'position': 'relative',\n",
    "                    'padding-top': 0,\n",
    "                    'padding-right': 0\n",
    "                }\n",
    "            )\n",
    "        ],href='data:image/jpeg;base64,{}'.format(encoded_image.decode())),\n",
    "    ])\n",
    "\n",
    "@app.callback([Output('header-content', 'children'),Output('tabs-content', 'children')],\n",
    "              [Input('tabs', 'value')])\n",
    "def render_content(tab): #проыерка и рентер tab\n",
    "    if tab == 'tab-1':\n",
    "        return html.H1(children = 'Danila\\'s page'),html.Div([\n",
    "            html.H3('Welcome to my page! I\\'m glad you\\'re here. I know that it\\'s too empty here now but I promise to fix it soon. For now, you can visit my gallery.')\n",
    "        ])\n",
    "    elif tab == 'tab-2':\n",
    "        image_filename = 'me.jpeg'\n",
    "        encoded_image = base64.b64encode(open(image_filename, 'rb').read()) #добавление заголовков и текста\n",
    "        return html.H1(children = 'About me'),html.Div([\n",
    "            html.H3('Me'),\n",
    "            html.Img(src='data:image/jpeg;base64,{}'.format(encoded_image.decode()), height='200px')\n",
    "        ])\n",
    "    elif tab == 'tab-3':\n",
    "        return html.H1(children = 'First semester'),html.Div([\n",
    "            html.H3('First semester')\n",
    "        ])\n",
    "    elif tab == 'tab-4':\n",
    "        return html.H1(children = 'Second semester'),html.Div([\n",
    "            html.H3('Second semester')\n",
    "        ])\n",
    "    elif tab == 'tab-5':\n",
    "        return html.H1(children = 'Third semester'),html.Div([\n",
    "            html.H3('Third semester')\n",
    "        ])\n",
    "    elif tab == 'tab-6':\n",
    "        images_div = []\n",
    "        images=[\n",
    "            '1.jpeg',\n",
    "            '2.jpeg',\n",
    "            '3.jpeg',\n",
    "            '4.jpeg',\n",
    "            '5.jpeg',\n",
    "            '6.jpeg'\n",
    "        ]\n",
    "        for i in images:\n",
    "            images_div.append(generate_thumbnail(i))\n",
    "        return html.H1(children = 'Gallery'),html.Div([\n",
    "            html.H3('Gallery'),\n",
    "            html.Div(images_div)\n",
    "        ])\n",
    "    elif tab == 'tab-7':\n",
    "        return html.H1(children = 'FBB'), dcc.Location(href='http://hse.ru/ba/cmb/', id='redirect-fbb')\n",
    "\n",
    "app"
   ]
  },
  {
   "cell_type": "code",
   "execution_count": null,
   "metadata": {},
   "outputs": [],
   "source": []
  }
 ],
 "metadata": {
  "celltoolbar": "Attachments",
  "kernelspec": {
   "display_name": "Python 3",
   "language": "python",
   "name": "python3"
  },
  "language_info": {
   "codemirror_mode": {
    "name": "ipython",
    "version": 3
   },
   "file_extension": ".py",
   "mimetype": "text/x-python",
   "name": "python",
   "nbconvert_exporter": "python",
   "pygments_lexer": "ipython3",
   "version": "3.7.4"
  }
 },
 "nbformat": 4,
 "nbformat_minor": 4
}
